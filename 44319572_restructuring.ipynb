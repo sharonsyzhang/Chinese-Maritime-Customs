{
 "cells": [
  {
   "cell_type": "code",
   "execution_count": 19,
   "id": "01b3ac42",
   "metadata": {},
   "outputs": [],
   "source": [
    "import pandas as pd\n",
    "import numpy as np"
   ]
  },
  {
   "cell_type": "code",
   "execution_count": 20,
   "id": "85aa4b5b",
   "metadata": {},
   "outputs": [
    {
     "name": "stdout",
     "output_type": "stream",
     "text": [
      "             1863. Unnamed: 2 1864. Unnamed: 4 1865. Unnamed: 6 1866.  \\\n",
      "NaN            No.   Tonnage.   No.   Tonnage.   No.   Tonnage.   No.   \n",
      "NEWCHWANG :—   NaN        NaN   NaN        NaN   NaN        NaN   NaN   \n",
      "Entered,       NaN        NaN   252     74,092   274     91,118   236   \n",
      "Cleared,       NaN        NaN   252     74,092   274     91,118   235   \n",
      "Total,         NaN        NaN   504    148,184   548    182,236   471   \n",
      "\n",
      "             Unnamed: 8 1867. Unnamed: 10 1868. Unnamed: 12 1869. Unnamed: 14  \\\n",
      "NaN            Tonnage.   No.    Tonnage.   No.    Tonnage.   No.    Tonnage.   \n",
      "NEWCHWANG :—        NaN   NaN         NaN   NaN         NaN   NaN         NaN   \n",
      "Entered,         79,666   327     110,418   211      70,634   359     113,774   \n",
      "Cleared,         79,274   327     110,418   211      70,634   359     113,774   \n",
      "Total,          158,940   654     220,836   422     141,268   718     227,548   \n",
      "\n",
      "             1870. Unnamed: 16 1871. Unnamed: 18 1872. Unnamed: 20  \n",
      "NaN            No.    Tonnage.   No.    Tonnage.   No.    Tonnage.  \n",
      "NEWCHWANG :—   NaN         NaN   NaN         NaN   NaN         NaN  \n",
      "Entered,       271      92,815   219      65,933   258      89,069  \n",
      "Cleared,       270      92,369   219      65,933   258      89,069  \n",
      "Total,         541     185,184   438     131,866   516     178,138  \n"
     ]
    }
   ],
   "source": [
    "#reading in csv\n",
    "csv_portNames= '/Users/Shaoyu/Desktop/historical datasets/OneDrive_1_2023-7-27/44319572_18-19.csv'\n",
    "#setting first column as index\n",
    "df=pd.read_csv(csv_portNames, sep=',',header=0,index_col=[0], skipinitialspace=True,encoding='utf-8')\n",
    "print(df.head(5))"
   ]
  },
  {
   "cell_type": "code",
   "execution_count": 5,
   "id": "4da0a93f",
   "metadata": {},
   "outputs": [],
   "source": [
    "#dropping the rows for \"Entered\" and \"Cleared\"\n",
    "df = df[(df.index != 'Entered,')&(df.index != 'Cleared,')]"
   ]
  },
  {
   "cell_type": "code",
   "execution_count": 6,
   "id": "4b835938",
   "metadata": {},
   "outputs": [],
   "source": [
    "#replace NaN values with 0\n",
    "df = df.fillna(0)"
   ]
  },
  {
   "cell_type": "code",
   "execution_count": 7,
   "id": "cbeaa671",
   "metadata": {},
   "outputs": [],
   "source": [
    "#these are all the columns with the tonnage values. They don't have names in our original CSV file hence \"unnamed\"\n",
    "unnamed_cols = [col for col in df.columns if 'Unnamed:' in col]"
   ]
  },
  {
   "cell_type": "code",
   "execution_count": 8,
   "id": "e2a068b0",
   "metadata": {},
   "outputs": [],
   "source": [
    "#this part of the code gives the tonnage columns names. the names are the year, taken from the previous column (which has the year for the No. values) \n",
    "for col in unnamed_cols:\n",
    "    og_ind = df.columns.get_loc(col)\n",
    "    new_col = df.columns[og_ind-1]\n",
    "    df.drop(columns=[new_col],inplace=True)\n",
    "    df.rename(columns={col: new_col},inplace=True)"
   ]
  },
  {
   "cell_type": "code",
   "execution_count": 9,
   "id": "cf68619f",
   "metadata": {},
   "outputs": [],
   "source": [
    "#drops any index with null values \n",
    "df = df[df.index.notna()]"
   ]
  },
  {
   "cell_type": "code",
   "execution_count": 10,
   "id": "2090c074",
   "metadata": {},
   "outputs": [],
   "source": [
    "#removes comma from the numerical values \n",
    "df = df.replace(',','', regex=True)"
   ]
  },
  {
   "cell_type": "code",
   "execution_count": 11,
   "id": "525d0fd2",
   "metadata": {},
   "outputs": [],
   "source": [
    "#convert to numerical type\n",
    "df = df.astype(int)"
   ]
  },
  {
   "cell_type": "code",
   "execution_count": 12,
   "id": "d3d6e884",
   "metadata": {},
   "outputs": [],
   "source": [
    "df_shifted = df.shift(-1)"
   ]
  },
  {
   "cell_type": "code",
   "execution_count": 13,
   "id": "3327d1cf",
   "metadata": {},
   "outputs": [],
   "source": [
    "df_shifted = df_shifted[(df_shifted.index != 'Total,')]"
   ]
  },
  {
   "cell_type": "code",
   "execution_count": 17,
   "id": "4418aa7c",
   "metadata": {},
   "outputs": [],
   "source": [
    "df_shifted\n",
    "df_shifted.to_csv('44319596_shifted.csv')"
   ]
  },
  {
   "cell_type": "code",
   "execution_count": null,
   "id": "1ba9cda7",
   "metadata": {},
   "outputs": [],
   "source": []
  }
 ],
 "metadata": {
  "kernelspec": {
   "display_name": "Python 3 (ipykernel)",
   "language": "python",
   "name": "python3"
  },
  "language_info": {
   "codemirror_mode": {
    "name": "ipython",
    "version": 3
   },
   "file_extension": ".py",
   "mimetype": "text/x-python",
   "name": "python",
   "nbconvert_exporter": "python",
   "pygments_lexer": "ipython3",
   "version": "3.9.12"
  }
 },
 "nbformat": 4,
 "nbformat_minor": 5
}
